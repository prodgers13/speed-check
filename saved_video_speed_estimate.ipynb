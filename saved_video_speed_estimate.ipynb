{
 "cells": [
  {
   "cell_type": "markdown",
   "id": "5703710f",
   "metadata": {},
   "source": [
    "<h3>Check the speed of cars in a video</h3>\n",
    "<p>This notebook is used to practice recognizing, tracking, and estimating the speed using videos of cars and trucks passing by my window, without having to wait for a car to drive by.\n",
    "<h4>Pseudocode:</h4>\n",
    "<p>Convert feet per second to mph: 1 ft/s = 0.6818181818 mi/h"
   ]
  },
  {
   "cell_type": "code",
   "execution_count": 25,
   "id": "15df0cbf",
   "metadata": {},
   "outputs": [],
   "source": [
    "import os\n",
    "import cv2\n",
    "import time\n",
    "from datetime import datetime\n",
    "path_to_videos = 'cars-and-trucks/'\n",
    "car_cascade = cv2.CascadeClassifier('cars.xml')"
   ]
  },
  {
   "cell_type": "code",
   "execution_count": 26,
   "id": "b642d8a4",
   "metadata": {},
   "outputs": [],
   "source": [
    "def get_next_filename(file_num):\n",
    "    path_to_videos = 'cars-and-trucks/'\n",
    "    files = os.listdir(path_to_videos)\n",
    "    this_file_num = 0\n",
    "    for file in files:\n",
    "        if os.path.isfile(os.path.join(path_to_videos, file)):\n",
    "            this_file_num = this_file_num + 1\n",
    "            file_name = os.path.join(path_to_videos, file)\n",
    "            if file_num == this_file_num:\n",
    "                return (file_name)"
   ]
  },
  {
   "cell_type": "code",
   "execution_count": 27,
   "id": "bd031877",
   "metadata": {},
   "outputs": [],
   "source": [
    "def speed_in_mph(x1,x2,f1,f2):\n",
    "    if x1 == 0:\n",
    "        return(None)\n",
    "    speed_of_car = 0\n",
    "    pixels_traveled = abs(x1 - x2) # first to last notice of a car\n",
    "#     print('in speed_in_mph')\n",
    "#     print('pixels traveled: ',pixels_traveled)\n",
    "    frames_with_cars = abs(f1 - f2) # from containing the first and last notice of a car\n",
    "#     print('frames with cars: ', frames_with_cars)\n",
    "    if frames_with_cars > 0:\n",
    "        time_elapsed = frames_with_cars / 30 # number of seconds from first frame with car to last frame with car\n",
    "#         print ('Time elapsed: ',time_elapsed,' seconds')\n",
    "        field_traveled = pixels_traveled / 320  # what portion of the field of view was the car noticed\n",
    "#         print ('portion of the view traveled: ',field_traveled*100,'%')\n",
    "        distance_traveled = field_traveled * 65 # feet of travel - averaged of near and far lanes 50 & 45' respectively\n",
    "#         print ('Distance traveled: ',distance_traveled,' in feet')\n",
    "        feet_per_second = distance_traveled / time_elapsed\n",
    "#         print('Feet per second: ',feet_per_second)\n",
    "        speed_of_car = feet_per_second * 0.6818181818 # convert feet per second the miles per hour\n",
    "#         print('Speed of car: ',speed_of_car)\n",
    "    return (speed_of_car)"
   ]
  },
  {
   "cell_type": "code",
   "execution_count": 28,
   "id": "2a931467",
   "metadata": {},
   "outputs": [],
   "source": [
    "def found_a_car(location):\n",
    "    big_x = 0\n",
    "    little_x = 640\n",
    "    frame_big_x = 0\n",
    "    frame_little_x = 0\n",
    "    speed = 0\n",
    "    p = 0\n",
    "    for (x,y,w,h,frames) in location:\n",
    "            p = x + w / 2 # a point midway through the rectangle \n",
    "            if p>big_x:\n",
    "                big_x = p\n",
    "                frame_big_x = frames\n",
    "            if p<little_x:\n",
    "                little_x = p\n",
    "                frame_little_x = frames\n",
    "    if big_x != 0:\n",
    "        speed = round(speed_in_mph(big_x,little_x,frame_big_x,frame_little_x),3) # speed not set\n",
    "    return(speed)"
   ]
  },
  {
   "cell_type": "code",
   "execution_count": 29,
   "id": "485bc7a7",
   "metadata": {},
   "outputs": [],
   "source": [
    "font = cv2.FONT_HERSHEY_SIMPLEX\n",
    "def process_video(file_name):\n",
    "    cap = cv2.VideoCapture(file_name)\n",
    "    if cap.isOpened() == False:\n",
    "        print('Error - wrong file name or codec used')\n",
    "    frames = 0\n",
    "    big_x = 0\n",
    "    little_x = 640\n",
    "    frame_big_x = 0\n",
    "    how_fast = 0\n",
    "    frame_little_x = 0\n",
    "    location = []\n",
    "    while cap.isOpened():\n",
    "        ret,frame = cap.read()\n",
    "        if ret == True:\n",
    "            # here is where you need to process each frame\n",
    "            # detect the vehicle in a single frame\n",
    "            frames += 1 # increment the number of frames so far, each one represents 1/30th of a second\n",
    "            gray = cv2.cvtColor(frame, cv2.COLOR_BGR2GRAY)\n",
    "            # Detects cars of different sizes in the input image\n",
    "            cars = car_cascade.detectMultiScale(gray, 1.1, 2)\n",
    "            for (x,y,w,h) in cars:\n",
    "                location.append([x,y,w,h,frames])\n",
    "                cv2.rectangle(frame,(x,y),(x+w,y+h),(0,0,255),2)\n",
    "            time.sleep(.005)\n",
    "            cv2.putText(frame,text=str(frames),org=(10,450),fontFace=font,fontScale=1,color=(0,255,0),thickness=2,lineType=cv2.LINE_AA)\n",
    "            cv2.imshow('frame',frame)\n",
    "            if cv2.waitKey(10) & 0xFF == 27:\n",
    "                break\n",
    "        else:\n",
    "            break\n",
    "        how_fast = found_a_car(location)\n",
    "    print('estimated speed was ',how_fast)\n",
    "    cap.release()"
   ]
  },
  {
   "cell_type": "code",
   "execution_count": 36,
   "id": "30951d81",
   "metadata": {},
   "outputs": [
    {
     "name": "stdout",
     "output_type": "stream",
     "text": [
      "Showing video file named  cars-and-trucks/08-17-2021 11:04:24.mp4\n",
      "estimated speed was  28.118\n"
     ]
    }
   ],
   "source": [
    "this_file_num = 13\n",
    "this_file = get_next_filename(this_file_num)\n",
    "this_file = 'cars-and-trucks/08-17-2021 11:04:24.mp4'\n",
    "# while(this_file != None):\n",
    "print('Showing video file named ',this_file)\n",
    "process_video(this_file)\n",
    "this_file_num += 1\n",
    "this_file = get_next_filename(this_file_num)\n",
    "cv2.destroyAllWindows()"
   ]
  },
  {
   "cell_type": "markdown",
   "id": "7c45e1ac",
   "metadata": {},
   "source": [
    "<h3>Check the recorded video for accuracy</h3>\n",
    "<p>Play the video back at 2 frames a second and count the frames from the start to the finish. Watch the back of the car and determine how many frames it appears in. Forget the front of the car.</p>\n",
    "If it appears in 30 frames and covers 40 feet, that's 20 feet per second.\n"
   ]
  },
  {
   "cell_type": "code",
   "execution_count": 31,
   "id": "af198ec9",
   "metadata": {},
   "outputs": [],
   "source": [
    "# width_of_screen = 8 # inches across\n",
    "# width_of_car_travelled = 6 # inches from start of video\n",
    "# pixels_traveled = 640 / (8/6) # first to last notice of a car\n",
    "# print('pixels car traveled: ',pixels_traveled)\n",
    "# frames_with_cars = 26 # from containing the first and last notice of a car\n",
    "# time_elapsed = frames_with_cars / 30 # number of seconds from first frame with car to last frame with car\n",
    "# print ('Time elapsed: ',time_elapsed,' seconds')\n",
    "# field_traveled = pixels_traveled / 640  # what portion of the field of view was the car noticed\n",
    "# print ('portSpeed of car:  27.39448051875ion of the view traveled: ',field_traveled*100,'%')\n",
    "# distance_traveled = field_traveled * 50 # feet of travel - averaged of near and far lanes 50 & 45' respectively\n",
    "# print ('Distance traveled: ',distance_traveled,' in feet')\n",
    "# feet_per_second = distance_traveled / time_elapsed\n",
    "# print('Feet per second: ',feet_per_second)\n",
    "# speed_of_car = feet_per_second * 0.6818181818 # convert feet per second the miles per hour\n",
    "# print('Speed of car: ',speed_of_car)"
   ]
  },
  {
   "cell_type": "markdown",
   "id": "624fb33a",
   "metadata": {},
   "source": [
    " "
   ]
  },
  {
   "cell_type": "code",
   "execution_count": null,
   "id": "8de6a515",
   "metadata": {},
   "outputs": [],
   "source": []
  }
 ],
 "metadata": {
  "kernelspec": {
   "display_name": "Python 3 (ipykernel)",
   "language": "python",
   "name": "python3"
  },
  "language_info": {
   "codemirror_mode": {
    "name": "ipython",
    "version": 3
   },
   "file_extension": ".py",
   "mimetype": "text/x-python",
   "name": "python",
   "nbconvert_exporter": "python",
   "pygments_lexer": "ipython3",
   "version": "3.9.6"
  }
 },
 "nbformat": 4,
 "nbformat_minor": 5
}
