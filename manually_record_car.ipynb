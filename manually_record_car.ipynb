{
 "cells": [
  {
   "cell_type": "code",
   "execution_count": 1,
   "id": "4f3617cd",
   "metadata": {},
   "outputs": [],
   "source": [
    "import os\n",
    "import cv2\n",
    "from datetime import datetime\n",
    "path = 'cars-and-trucks/'\n",
    "\n",
    "def get_filename():\n",
    "    now = datetime.now()\n",
    "    file_name = now.strftime(\"%m-%d-%Y@%H-%M-%S\") + '.mp4'\n",
    "    return (os.path.join(path, file_name))\n",
    "\n",
    "cap = cv2.VideoCapture(0)\n",
    "width = int(cap.get(cv2.CAP_PROP_FRAME_WIDTH))\n",
    "height = int(cap.get(cv2.CAP_PROP_FRAME_HEIGHT))\n",
    "video_file = get_filename()"
   ]
  },
  {
   "cell_type": "code",
   "execution_count": 2,
   "id": "6dfd3934",
   "metadata": {},
   "outputs": [
    {
     "name": "stderr",
     "output_type": "stream",
     "text": [
      "Warning: Ignoring XDG_SESSION_TYPE=wayland on Gnome. Use QT_QPA_PLATFORM=wayland to run on Wayland anyway.\n"
     ]
    },
    {
     "name": "stdout",
     "output_type": "stream",
     "text": [
      "k is 115\n",
      "got the file name to write to. It is  cars-and-trucks/08-10-2021@14-52-03.mp4\n",
      "k is 115\n",
      "closing the file\n",
      "k is 115\n",
      "got the file name to write to. It is  cars-and-trucks/08-10-2021@14-56-23.mp4\n",
      "k is 115\n",
      "closing the file\n",
      "k is 115\n",
      "got the file name to write to. It is  cars-and-trucks/08-10-2021@14-57-35.mp4\n",
      "k is 115\n",
      "closing the file\n",
      "k is 115\n",
      "got the file name to write to. It is  cars-and-trucks/08-10-2021@14-58-12.mp4\n",
      "k is 115\n",
      "closing the file\n",
      "k is 115\n",
      "got the file name to write to. It is  cars-and-trucks/08-10-2021@14-58-31.mp4\n",
      "k is 115\n",
      "closing the file\n",
      "k is 115\n",
      "got the file name to write to. It is  cars-and-trucks/08-10-2021@14-58-46.mp4\n",
      "writing the frame # 100  to the file\n",
      "k is 115\n",
      "closing the file\n",
      "k is 115\n",
      "got the file name to write to. It is  cars-and-trucks/08-10-2021@14-59-03.mp4\n",
      "k is 115\n",
      "closing the file\n",
      "k is 233\n",
      "received the escape character. Closing the session\n"
     ]
    }
   ],
   "source": [
    "k = 0\n",
    "frames = 0\n",
    "record = False\n",
    "k = cv2.waitKey(1) \n",
    "while k != 27: # escape\n",
    "    ret,frame = cap.read()\n",
    "    if ret:\n",
    "        cv2.imshow('frame',frame)\n",
    "    else:\n",
    "        print('Cannot get an image with cap.read()')\n",
    "    if k != -1:\n",
    "        print('k is',k)\n",
    "    if k == 115 and not record: # first s for start is received\n",
    "        record = True\n",
    "        k = 0\n",
    "        frames = 0\n",
    "        video_file = get_filename()\n",
    "        writer = cv2.VideoWriter(video_file, cv2.VideoWriter_fourcc(*'mp4v'),30, (width, height))\n",
    "        print('got the file name to write to. It is ',video_file)\n",
    "    if record:    \n",
    "        writer.write(frame)\n",
    "        frames += 1\n",
    "        if frames % 100 == 0:\n",
    "            print('writing the frame #',frames,' to the file')\n",
    "    if k == 115 and record: # second s for stop is received\n",
    "        writer.release()\n",
    "        record = False\n",
    "        print('closing the file')\n",
    "    k = cv2.waitKey(1) \n",
    "print('received the escape character. Closing the session')\n",
    "cap.release()        \n",
    "writer.release() # in case I did not stop the camera, and just hit escape.\n",
    "cv2.destroyAllWindows()        "
   ]
  },
  {
   "cell_type": "code",
   "execution_count": null,
   "id": "a229a6f4",
   "metadata": {},
   "outputs": [],
   "source": []
  },
  {
   "cell_type": "code",
   "execution_count": 3,
   "id": "6f1576d7",
   "metadata": {},
   "outputs": [],
   "source": [
    "#!v4l2-ctl --list-devices "
   ]
  },
  {
   "cell_type": "code",
   "execution_count": null,
   "id": "0fb564c7",
   "metadata": {},
   "outputs": [],
   "source": []
  },
  {
   "cell_type": "code",
   "execution_count": null,
   "id": "ef846f60",
   "metadata": {},
   "outputs": [],
   "source": []
  },
  {
   "cell_type": "code",
   "execution_count": null,
   "id": "4b78dd6e",
   "metadata": {},
   "outputs": [],
   "source": []
  }
 ],
 "metadata": {
  "kernelspec": {
   "display_name": "Python 3 (ipykernel)",
   "language": "python",
   "name": "python3"
  },
  "language_info": {
   "codemirror_mode": {
    "name": "ipython",
    "version": 3
   },
   "file_extension": ".py",
   "mimetype": "text/x-python",
   "name": "python",
   "nbconvert_exporter": "python",
   "pygments_lexer": "ipython3",
   "version": "3.9.6"
  }
 },
 "nbformat": 4,
 "nbformat_minor": 5
}
