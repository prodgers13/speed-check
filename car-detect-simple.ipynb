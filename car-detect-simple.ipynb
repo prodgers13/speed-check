{
 "cells": [
  {
   "cell_type": "code",
   "execution_count": 1,
   "id": "5a30beff-0a4c-42b7-b63a-60aef23b3ea7",
   "metadata": {},
   "outputs": [],
   "source": [
    "from datetime import datetime\n",
    "import os\n",
    "import cv2\n",
    "path = 'cars-and-trucks/'"
   ]
  },
  {
   "cell_type": "code",
   "execution_count": 2,
   "id": "4694d891-769f-4c9c-86f0-548a152cabe8",
   "metadata": {},
   "outputs": [],
   "source": [
    "def get_filename():\n",
    "    now = datetime.now()\n",
    "    time_stamp = now.strftime(\"%m-%d-%Y %H:%M:%S\")\n",
    "    file_name = time_stamp + '.mp4'\n",
    "    return (os.path.join(path, file_name))"
   ]
  },
  {
   "cell_type": "code",
   "execution_count": 3,
   "id": "fff6b6ef-1edb-47cb-9618-acf59e3d7917",
   "metadata": {},
   "outputs": [],
   "source": [
    "def look_for_cars():\n",
    "    cap = cv2.VideoCapture(0)\n",
    "    if not cap.isOpened():\n",
    "            print('Error - could not get the camera opened')\n",
    "    cap.set(cv2.CAP_PROP_FRAME_WIDTH, 320) # supported 160x90 or 320x180\n",
    "    cap.set(cv2.CAP_PROP_FRAME_HEIGHT, 180)\n",
    "    # for some reason this takes forever to start up now.        \n",
    "    car_cascade = cv2.CascadeClassifier('cars.xml')\n",
    "    width = int(cap.get(cv2.CAP_PROP_FRAME_WIDTH))\n",
    "    height = int(cap.get(cv2.CAP_PROP_FRAME_HEIGHT))\n",
    "    recording = False\n",
    "    frames_with_cars = 0\n",
    "    frames_since_recording = 0\n",
    "    finished = False\n",
    "    while not finished:\n",
    "        # reads frame from a video\n",
    "        ret, frame = cap.read() # does every frame get sent to the file?\n",
    "        if ret: # if you received a frame, then proceed\n",
    "            if recording:\n",
    "                frames_since_recording += 1\n",
    "            if not recording:\n",
    "                cv2.imshow('Car Detection', frame)\n",
    "            # convert to gray scale of each frame before doing the cascade\n",
    "            gray = cv2.cvtColor(frame, cv2.COLOR_BGR2GRAY)\n",
    "            # Detects cars of different sizes in the input image\n",
    "            cars = car_cascade.detectMultiScale(gray, 1.1, 2)\n",
    "            # Draw a rectangle of each car in the frame\n",
    "            for (x,y,w,h) in cars:\n",
    "                cv2.rectangle(gray,(x,y),(x+w,y+h),(0,0,255),2)\n",
    "                # Display frame in a window\n",
    "                cv2.imshow('Car Detection', gray)\n",
    "                frames_with_cars += 1\n",
    "                if not recording:\n",
    "                    video_file = get_filename()\n",
    "                    print('Starting to record to file: ',video_file)\n",
    "                    writer = cv2.VideoWriter(video_file, \n",
    "                                     cv2.VideoWriter_fourcc(*'mp4v'),\n",
    "                                     30, (width, height))\n",
    "                    recording = True\n",
    "            if recording:\n",
    "                writer.write(frame)\n",
    "            # If you have at least 60 frames since you first detected a car\n",
    "            finished = (frames_since_recording - frames_with_cars > 30) \n",
    "        if cv2.waitKey(1) == 27:\n",
    "            finished = True\n",
    "            break\n",
    "    cap.release()\n",
    "    if recording:\n",
    "        writer.release()\n",
    "    cv2.destroyAllWindows()\n",
    "    print('frames_with_cars: ',frames_with_cars)\n",
    "    print('frames_since_recording started: ', frames_since_recording)\n",
    "    return(finished)"
   ]
  },
  {
   "cell_type": "code",
   "execution_count": null,
   "id": "cb4d5a4b-1d3a-40bc-a77d-a5d4276fcdcd",
   "metadata": {},
   "outputs": [
    {
     "name": "stderr",
     "output_type": "stream",
     "text": [
      "Warning: Ignoring XDG_SESSION_TYPE=wayland on Gnome. Use QT_QPA_PLATFORM=wayland to run on Wayland anyway.\n"
     ]
    },
    {
     "name": "stdout",
     "output_type": "stream",
     "text": [
      "Starting to record to file:  cars-and-trucks/08-17-2021 11:00:36.mp4\n",
      "frames_with_cars:  44\n",
      "frames_since_recording started:  75\n",
      "Starting to record to file:  cars-and-trucks/08-17-2021 11:00:46.mp4\n",
      "frames_with_cars:  59\n",
      "frames_since_recording started:  90\n",
      "Starting to record to file:  cars-and-trucks/08-17-2021 11:00:54.mp4\n",
      "frames_with_cars:  55\n",
      "frames_since_recording started:  86\n",
      "Starting to record to file:  cars-and-trucks/08-17-2021 11:01:25.mp4\n",
      "frames_with_cars:  61\n",
      "frames_since_recording started:  92\n",
      "Starting to record to file:  cars-and-trucks/08-17-2021 11:01:29.mp4\n",
      "frames_with_cars:  19\n",
      "frames_since_recording started:  50\n",
      "Starting to record to file:  cars-and-trucks/08-17-2021 11:04:24.mp4\n",
      "frames_with_cars:  71\n",
      "frames_since_recording started:  102\n",
      "Starting to record to file:  cars-and-trucks/08-17-2021 11:06:35.mp4\n",
      "frames_with_cars:  38\n",
      "frames_since_recording started:  69\n",
      "Starting to record to file:  cars-and-trucks/08-17-2021 11:07:34.mp4\n",
      "frames_with_cars:  45\n",
      "frames_since_recording started:  76\n",
      "Starting to record to file:  cars-and-trucks/08-17-2021 11:07:38.mp4\n",
      "frames_with_cars:  34\n",
      "frames_since_recording started:  65\n",
      "Starting to record to file:  cars-and-trucks/08-17-2021 11:08:21.mp4\n",
      "frames_with_cars:  45\n",
      "frames_since_recording started:  76\n",
      "Starting to record to file:  cars-and-trucks/08-17-2021 11:08:33.mp4\n",
      "frames_with_cars:  33\n",
      "frames_since_recording started:  64\n",
      "Starting to record to file:  cars-and-trucks/08-17-2021 11:09:15.mp4\n",
      "frames_with_cars:  53\n",
      "frames_since_recording started:  84\n",
      "Starting to record to file:  cars-and-trucks/08-17-2021 11:09:19.mp4\n",
      "frames_with_cars:  48\n",
      "frames_since_recording started:  79\n",
      "frames_with_cars:  0\n",
      "frames_since_recording started:  0\n",
      "frames_with_cars:  0\n",
      "frames_since_recording started:  0\n",
      "frames_with_cars:  0\n",
      "frames_since_recording started:  0\n",
      "frames_with_cars:  0\n",
      "frames_since_recording started:  0\n",
      "frames_with_cars:  0\n",
      "frames_since_recording started:  0\n",
      "frames_with_cars:  0\n",
      "frames_since_recording started:  0\n",
      "frames_with_cars:  0\n",
      "frames_since_recording started:  0\n",
      "frames_with_cars:  0\n",
      "frames_since_recording started:  0\n",
      "frames_with_cars:  0\n",
      "frames_since_recording started:  0\n"
     ]
    }
   ],
   "source": [
    "video_count = 0\n",
    "while (video_count < 50):\n",
    "    result = look_for_cars()\n",
    "    video_count += 1"
   ]
  },
  {
   "cell_type": "code",
   "execution_count": null,
   "id": "9ef1feea-cf16-4838-91cc-94a55803bfd1",
   "metadata": {},
   "outputs": [],
   "source": [
    "# escape no longer works.\n",
    "# I think the next problem is due to the capture of the frame stops, or \n",
    "# it writes the same frame to the file twice, or more.\n",
    "#\n",
    "# It seems to be that it records the first 1/4 second, then slows quite a bit.\n",
    "# So it's about 8-10 frames in, then slows down, but picks up after about 30 frames. \n",
    "#\n",
    "# If I can average the speed over the frame, I think I can overcome the issue.\n",
    "# but it is annoying. What am I saving with each frame to the log?\n",
    "# just frames_with_cars and frames_since_recording (started)"
   ]
  },
  {
   "cell_type": "code",
   "execution_count": null,
   "id": "b36907cc-50af-43db-beb0-d7a08c6c43c4",
   "metadata": {},
   "outputs": [],
   "source": []
  }
 ],
 "metadata": {
  "kernelspec": {
   "display_name": "Python 3 (ipykernel)",
   "language": "python",
   "name": "python3"
  },
  "language_info": {
   "codemirror_mode": {
    "name": "ipython",
    "version": 3
   },
   "file_extension": ".py",
   "mimetype": "text/x-python",
   "name": "python",
   "nbconvert_exporter": "python",
   "pygments_lexer": "ipython3",
   "version": "3.9.6"
  }
 },
 "nbformat": 4,
 "nbformat_minor": 5
}
